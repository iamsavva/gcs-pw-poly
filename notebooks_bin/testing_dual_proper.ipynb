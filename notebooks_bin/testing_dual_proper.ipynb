{
 "cells": [
  {
   "cell_type": "code",
   "execution_count": 1,
   "metadata": {},
   "outputs": [],
   "source": [
    "# %matplotlib qt \n",
    "# %matplotlib inline\n",
    "\n",
    "import typing as T\n",
    "\n",
    "import numpy as np\n",
    "import numpy.typing as npt\n",
    "import scipy as sp\n",
    "\n",
    "from matplotlib import pyplot as plt\n",
    "from matplotlib import cm\n",
    "from matplotlib.ticker import LinearLocator\n",
    "\n",
    "from pydrake.solvers import (  \n",
    "    MathematicalProgram,\n",
    "    MathematicalProgramResult,\n",
    "    Solve,\n",
    ")\n",
    "from pydrake.symbolic import Polynomial, Variable, Variables\n",
    "\n",
    "from pydrake.math import eq, le, ge\n",
    "\n",
    "from util import timeit\n",
    "from vertex import Vertex, BoxVertex, PolytopeVertex, EllipsoidVertex\n",
    "from vertex import FREE, PSD, PSD_QUADRATIC, PSD_WITH_IDENTITY\n",
    "from edge import Edge"
   ]
  },
  {
   "cell_type": "code",
   "execution_count": 2,
   "metadata": {},
   "outputs": [],
   "source": [
    "%matplotlib widget"
   ]
  },
  {
   "cell_type": "code",
   "execution_count": 2,
   "metadata": {},
   "outputs": [
    {
     "ename": "ValueError",
     "evalue": "all the input arrays must have same number of dimensions, but the array at index 0 has 1 dimension(s) and the array at index 1 has 2 dimension(s)",
     "output_type": "error",
     "traceback": [
      "\u001b[0;31m---------------------------------------------------------------------------\u001b[0m",
      "\u001b[0;31mValueError\u001b[0m                                Traceback (most recent call last)",
      "\u001b[1;32m/Users/savva/Desktop/Codes/gcs/gcs-dual-sos/testing_dual_proper.ipynb Cell 3\u001b[0m in \u001b[0;36m1\n\u001b[1;32m     <a href='vscode-notebook-cell:/Users/savva/Desktop/Codes/gcs/gcs-dual-sos/testing_dual_proper.ipynb#W2sZmlsZQ%3D%3D?line=14'>15</a>\u001b[0m     e \u001b[39m=\u001b[39m Edge( vertices[i\u001b[39m+\u001b[39m\u001b[39m1\u001b[39m], vertices[i])\n\u001b[1;32m     <a href='vscode-notebook-cell:/Users/savva/Desktop/Codes/gcs/gcs-dual-sos/testing_dual_proper.ipynb#W2sZmlsZQ%3D%3D?line=15'>16</a>\u001b[0m     e\u001b[39m.\u001b[39mset_quadratic_cost()\n\u001b[0;32m---> <a href='vscode-notebook-cell:/Users/savva/Desktop/Codes/gcs/gcs-dual-sos/testing_dual_proper.ipynb#W2sZmlsZQ%3D%3D?line=16'>17</a>\u001b[0m     e\u001b[39m.\u001b[39;49ms_procedure(prog)\n\u001b[1;32m     <a href='vscode-notebook-cell:/Users/savva/Desktop/Codes/gcs/gcs-dual-sos/testing_dual_proper.ipynb#W2sZmlsZQ%3D%3D?line=18'>19</a>\u001b[0m prog\u001b[39m.\u001b[39mAddLinearConstraint(vt\u001b[39m.\u001b[39mcost_at_center() \u001b[39m==\u001b[39m \u001b[39m0\u001b[39m)\n\u001b[1;32m     <a href='vscode-notebook-cell:/Users/savva/Desktop/Codes/gcs/gcs-dual-sos/testing_dual_proper.ipynb#W2sZmlsZQ%3D%3D?line=20'>21</a>\u001b[0m cost \u001b[39m=\u001b[39m vs\u001b[39m.\u001b[39mcost_at_center()\n",
      "File \u001b[0;32m~/Desktop/Codes/gcs/gcs-dual-sos/edge.py:114\u001b[0m, in \u001b[0;36mEdge.s_procedure\u001b[0;34m(self, prog)\u001b[0m\n\u001b[1;32m    112\u001b[0m res \u001b[39m=\u001b[39m \u001b[39m0\u001b[39m\n\u001b[1;32m    113\u001b[0m res \u001b[39m+\u001b[39m\u001b[39m=\u001b[39m \u001b[39mself\u001b[39m\u001b[39m.\u001b[39mget_cost()\n\u001b[0;32m--> 114\u001b[0m res \u001b[39m+\u001b[39m\u001b[39m=\u001b[39m \u001b[39mself\u001b[39;49m\u001b[39m.\u001b[39;49mget_potential_diff()\n\u001b[1;32m    115\u001b[0m res \u001b[39m+\u001b[39m\u001b[39m=\u001b[39m \u001b[39mself\u001b[39m\u001b[39m.\u001b[39mget_linear_constraint_multiplier_terms(prog)\n\u001b[1;32m    116\u001b[0m \u001b[39m# note the sign \u001b[39;00m\n",
      "File \u001b[0;32m~/Desktop/Codes/gcs/gcs-dual-sos/edge.py:106\u001b[0m, in \u001b[0;36mEdge.get_potential_diff\u001b[0;34m(self)\u001b[0m\n\u001b[1;32m    101\u001b[0m sr \u001b[39m=\u001b[39m \u001b[39mself\u001b[39m\u001b[39m.\u001b[39mright\u001b[39m.\u001b[39ms\n\u001b[1;32m    103\u001b[0m O_n \u001b[39m=\u001b[39m np\u001b[39m.\u001b[39mzeros((n,n))\n\u001b[1;32m    105\u001b[0m \u001b[39mreturn\u001b[39;00m np\u001b[39m.\u001b[39mvstack((\n\u001b[0;32m--> 106\u001b[0m     np\u001b[39m.\u001b[39;49mhstack( (sr\u001b[39m-\u001b[39;49msl,  \u001b[39m-\u001b[39;49mrl\u001b[39m.\u001b[39;49mT,   rr\u001b[39m.\u001b[39;49mT) ), \n\u001b[1;32m    107\u001b[0m     np\u001b[39m.\u001b[39mhstack( (\u001b[39m-\u001b[39mrl,    \u001b[39m-\u001b[39mQl,    O_n ) ), \n\u001b[1;32m    108\u001b[0m     np\u001b[39m.\u001b[39mhstack( (rr,      O_n,    Qr ) ) \n\u001b[1;32m    109\u001b[0m     ))\n",
      "File \u001b[0;32m<__array_function__ internals>:180\u001b[0m, in \u001b[0;36mhstack\u001b[0;34m(*args, **kwargs)\u001b[0m\n",
      "File \u001b[0;32m/opt/homebrew/lib/python3.10/site-packages/numpy/core/shape_base.py:343\u001b[0m, in \u001b[0;36mhstack\u001b[0;34m(tup)\u001b[0m\n\u001b[1;32m    341\u001b[0m \u001b[39m# As a special case, dimension 0 of 1-dimensional arrays is \"horizontal\"\u001b[39;00m\n\u001b[1;32m    342\u001b[0m \u001b[39mif\u001b[39;00m arrs \u001b[39mand\u001b[39;00m arrs[\u001b[39m0\u001b[39m]\u001b[39m.\u001b[39mndim \u001b[39m==\u001b[39m \u001b[39m1\u001b[39m:\n\u001b[0;32m--> 343\u001b[0m     \u001b[39mreturn\u001b[39;00m _nx\u001b[39m.\u001b[39;49mconcatenate(arrs, \u001b[39m0\u001b[39;49m)\n\u001b[1;32m    344\u001b[0m \u001b[39melse\u001b[39;00m:\n\u001b[1;32m    345\u001b[0m     \u001b[39mreturn\u001b[39;00m _nx\u001b[39m.\u001b[39mconcatenate(arrs, \u001b[39m1\u001b[39m)\n",
      "File \u001b[0;32m<__array_function__ internals>:180\u001b[0m, in \u001b[0;36mconcatenate\u001b[0;34m(*args, **kwargs)\u001b[0m\n",
      "\u001b[0;31mValueError\u001b[0m: all the input arrays must have same number of dimensions, but the array at index 0 has 1 dimension(s) and the array at index 1 has 2 dimension(s)"
     ]
    }
   ],
   "source": [
    "n = 2\n",
    "pot_type = PSD\n",
    "\n",
    "prog = MathematicalProgram()\n",
    "vertices = []\n",
    "vt = EllipsoidVertex(\"t\", prog, np.zeros(n), 0.5*np.eye(n), pot_type)\n",
    "vertices.append( vt )\n",
    "\n",
    "# vertices.append( EllipsoidVertex(\"v\"+str(1), prog, 1*np.ones(n), 2*np.eye(n), pot_type) )\n",
    "\n",
    "vs = EllipsoidVertex(\"s\", prog, 2*np.ones(n), 0.5 * np.eye(n), pot_type)\n",
    "vertices.append( vs )\n",
    "\n",
    "for i in range( len(vertices)-1 ):\n",
    "    e = Edge( vertices[i+1], vertices[i])\n",
    "    e.set_quadratic_cost()\n",
    "    e.s_procedure(prog)\n",
    "\n",
    "prog.AddLinearConstraint(vt.cost_at_center() == 0)\n",
    "\n",
    "cost = vs.cost_at_center()\n",
    "prog.AddLinearCost( -cost )\n",
    "\n",
    "solution = Solve(prog)\n",
    "print(solution.is_success())\n",
    "print(solution.get_optimal_cost())"
   ]
  },
  {
   "cell_type": "code",
   "execution_count": null,
   "metadata": {},
   "outputs": [],
   "source": []
  }
 ],
 "metadata": {
  "kernelspec": {
   "display_name": "Python 3",
   "language": "python",
   "name": "python3"
  },
  "language_info": {
   "codemirror_mode": {
    "name": "ipython",
    "version": 3
   },
   "file_extension": ".py",
   "mimetype": "text/x-python",
   "name": "python",
   "nbconvert_exporter": "python",
   "pygments_lexer": "ipython3",
   "version": "3.10.8"
  },
  "orig_nbformat": 4
 },
 "nbformat": 4,
 "nbformat_minor": 2
}
