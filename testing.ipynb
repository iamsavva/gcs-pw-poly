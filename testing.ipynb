{
 "cells": [
  {
   "cell_type": "code",
   "execution_count": 2,
   "metadata": {},
   "outputs": [],
   "source": [
    "# %matplotlib qt \n",
    "\n",
    "# %matplotlib inline\n",
    "\n",
    "import typing as T\n",
    "\n",
    "import numpy as np\n",
    "import scipy as sp\n",
    "\n",
    "from matplotlib import pyplot as plt\n",
    "from matplotlib import cm\n",
    "from matplotlib.ticker import LinearLocator\n",
    "\n",
    "from pydrake.solvers import (  \n",
    "    MathematicalProgram,\n",
    "    Solve,\n",
    "    MathematicalProgramResult\n",
    ")\n",
    "from pydrake.symbolic import Polynomial, Variable, Variables\n",
    "\n",
    "from util import timeit\n",
    "\n",
    "FREE_POLY = \"free_poly\"\n",
    "PSD_POLY = \"psd_poly\"\n",
    "PSD_ON_REGION_POLY = \"psd_on_region\""
   ]
  },
  {
   "cell_type": "code",
   "execution_count": 2,
   "metadata": {},
   "outputs": [],
   "source": [
    "%matplotlib widget"
   ]
  },
  {
   "cell_type": "code",
   "execution_count": 36,
   "metadata": {},
   "outputs": [
    {
     "name": "stdout",
     "output_type": "stream",
     "text": [
      "\u001b[34m0.469s since last time-check\n"
     ]
    }
   ],
   "source": [
    "prog  = MathematicalProgram()\n",
    "n = 20\n",
    "k = 50\n",
    "mats = []\n",
    "for i in range(k):\n",
    "    X = prog.NewSymmetricContinuousVariables(n)\n",
    "    prog.AddPositiveSemidefiniteConstraint(X)\n",
    "    mats.append(X)\n",
    "\n",
    "# make a box\n",
    "# fomrulation 1:\n",
    "a = 1\n",
    "b = 2\n",
    "Y = None\n",
    "for X in mats:\n",
    "    for i in range(n):\n",
    "        prog.AddLinearConstraint( X[0,i] >= a )\n",
    "        prog.AddLinearConstraint( X[0,i] <= b )\n",
    "\n",
    "    for i in range(n):\n",
    "        for j in range(i, n):\n",
    "            prog.AddLinearConstraint( b * X[0,j] - b*a - X[i,j] + a * X[0,i] >= 0 )\n",
    "\n",
    "\n",
    "    prog.AddConstraint(np.trace(X) == n)\n",
    "    prog.AddLinearCost(np.trace(X.dot(np.ones((n,n)))))\n",
    "\n",
    "    for p in range(14):\n",
    "        i = np.random.randint(0,n)\n",
    "        j = np.random.randint(0,n)\n",
    "\n",
    "        if Y is not None:\n",
    "            prog.AddLinearConstraint( X[i,j] == Y[i,j] )\n",
    "        \n",
    "    Y = X\n",
    "\n",
    "\n",
    "timer = timeit()\n",
    "solution = Solve(prog)\n",
    "timer.dt()\n",
    "\n",
    "assert solution.is_success()"
   ]
  },
  {
   "cell_type": "code",
   "execution_count": 33,
   "metadata": {},
   "outputs": [
    {
     "data": {
      "text/plain": [
       "0"
      ]
     },
     "execution_count": 33,
     "metadata": {},
     "output_type": "execute_result"
    }
   ],
   "source": [
    "np.random.randint(0,2)"
   ]
  },
  {
   "cell_type": "code",
   "execution_count": 5,
   "metadata": {},
   "outputs": [
    {
     "data": {
      "text/plain": [
       "array([], dtype=object)"
      ]
     },
     "execution_count": 5,
     "metadata": {},
     "output_type": "execute_result"
    }
   ],
   "source": []
  },
  {
   "cell_type": "code",
   "execution_count": null,
   "metadata": {},
   "outputs": [],
   "source": []
  }
 ],
 "metadata": {
  "kernelspec": {
   "display_name": "Python 3",
   "language": "python",
   "name": "python3"
  },
  "language_info": {
   "codemirror_mode": {
    "name": "ipython",
    "version": 3
   },
   "file_extension": ".py",
   "mimetype": "text/x-python",
   "name": "python",
   "nbconvert_exporter": "python",
   "pygments_lexer": "ipython3",
   "version": "3.10.8"
  },
  "orig_nbformat": 4,
  "vscode": {
   "interpreter": {
    "hash": "949777d72b0d2535278d3dc13498b2535136f6dfe0678499012e853ee9abcab1"
   }
  }
 },
 "nbformat": 4,
 "nbformat_minor": 2
}
