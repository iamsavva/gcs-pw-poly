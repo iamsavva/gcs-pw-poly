{
 "cells": [
  {
   "cell_type": "code",
   "execution_count": 1,
   "metadata": {},
   "outputs": [],
   "source": [
    "# %matplotlib qt \n",
    "\n",
    "# %matplotlib inline\n",
    "\n",
    "import typing as T\n",
    "\n",
    "import numpy as np\n",
    "import scipy as sp\n",
    "\n",
    "from matplotlib import pyplot as plt\n",
    "from matplotlib import cm\n",
    "from matplotlib.ticker import LinearLocator\n",
    "\n",
    "from pydrake.solvers import (  \n",
    "    MathematicalProgram,\n",
    "    Solve,\n",
    "    MathematicalProgramResult\n",
    ")\n",
    "from pydrake.symbolic import Polynomial, Variable, Variables\n",
    "\n",
    "from util import timeit\n",
    "\n",
    "FREE_POLY = \"free_poly\"\n",
    "PSD_POLY = \"psd_poly\"\n",
    "PSD_ON_REGION_POLY = \"psd_on_region\""
   ]
  },
  {
   "cell_type": "code",
   "execution_count": 4,
   "metadata": {},
   "outputs": [
    {
     "data": {
      "text/plain": [
       "array([[3],\n",
       "       [2]])"
      ]
     },
     "execution_count": 4,
     "metadata": {},
     "output_type": "execute_result"
    }
   ],
   "source": [
    "np.max((np.array([[1],[2]]),np.array([[3],[1]])), axis = 0)"
   ]
  },
  {
   "cell_type": "code",
   "execution_count": 2,
   "metadata": {},
   "outputs": [],
   "source": [
    "%matplotlib widget"
   ]
  },
  {
   "cell_type": "code",
   "execution_count": 36,
   "metadata": {},
   "outputs": [
    {
     "name": "stdout",
     "output_type": "stream",
     "text": [
      "\u001b[34m0.469s since last time-check\n"
     ]
    }
   ],
   "source": [
    "prog  = MathematicalProgram()\n",
    "n = 20\n",
    "k = 50\n",
    "mats = []\n",
    "for i in range(k):\n",
    "    X = prog.NewSymmetricContinuousVariables(n)\n",
    "    prog.AddPositiveSemidefiniteConstraint(X)\n",
    "    mats.append(X)\n",
    "\n",
    "# make a box\n",
    "# fomrulation 1:\n",
    "a = 1\n",
    "b = 2\n",
    "Y = None\n",
    "for X in mats:\n",
    "    for i in range(n):\n",
    "        prog.AddLinearConstraint( X[0,i] >= a )\n",
    "        prog.AddLinearConstraint( X[0,i] <= b )\n",
    "\n",
    "    for i in range(n):\n",
    "        for j in range(i, n):\n",
    "            prog.AddLinearConstraint( b * X[0,j] - b*a - X[i,j] + a * X[0,i] >= 0 )\n",
    "\n",
    "\n",
    "    prog.AddConstraint(np.trace(X) == n)\n",
    "    prog.AddLinearCost(np.trace(X.dot(np.ones((n,n)))))\n",
    "\n",
    "    for p in range(14):\n",
    "        i = np.random.randint(0,n)\n",
    "        j = np.random.randint(0,n)\n",
    "\n",
    "        if Y is not None:\n",
    "            prog.AddLinearConstraint( X[i,j] == Y[i,j] )\n",
    "        \n",
    "    Y = X\n",
    "\n",
    "\n",
    "timer = timeit()\n",
    "solution = Solve(prog)\n",
    "timer.dt()\n",
    "\n",
    "assert solution.is_success()"
   ]
  },
  {
   "cell_type": "code",
   "execution_count": 33,
   "metadata": {},
   "outputs": [
    {
     "data": {
      "text/plain": [
       "0"
      ]
     },
     "execution_count": 33,
     "metadata": {},
     "output_type": "execute_result"
    }
   ],
   "source": [
    "np.random.randint(0,2)"
   ]
  },
  {
   "cell_type": "code",
   "execution_count": 5,
   "metadata": {},
   "outputs": [
    {
     "data": {
      "text/plain": [
       "array([], dtype=object)"
      ]
     },
     "execution_count": 5,
     "metadata": {},
     "output_type": "execute_result"
    }
   ],
   "source": []
  },
  {
   "cell_type": "code",
   "execution_count": 6,
   "metadata": {},
   "outputs": [
    {
     "ename": "ValueError",
     "evalue": "Input must be 1- or 2-d.",
     "output_type": "error",
     "traceback": [
      "\u001b[0;31m---------------------------------------------------------------------------\u001b[0m",
      "\u001b[0;31mValueError\u001b[0m                                Traceback (most recent call last)",
      "\u001b[1;32m/Users/savva/Desktop/Codes/gcs/gcs-dual-sos/testing.ipynb Cell 6\u001b[0m in \u001b[0;36m1\n\u001b[0;32m----> <a href='vscode-notebook-cell:/Users/savva/Desktop/Codes/gcs/gcs-dual-sos/testing.ipynb#W5sZmlsZQ%3D%3D?line=0'>1</a>\u001b[0m np\u001b[39m.\u001b[39;49mdiag( (np\u001b[39m.\u001b[39;49mones((\u001b[39m2\u001b[39;49m,\u001b[39m2\u001b[39;49m)), np\u001b[39m.\u001b[39;49meye(\u001b[39m2\u001b[39;49m)) )\n",
      "File \u001b[0;32m<__array_function__ internals>:180\u001b[0m, in \u001b[0;36mdiag\u001b[0;34m(*args, **kwargs)\u001b[0m\n",
      "File \u001b[0;32m/opt/homebrew/lib/python3.10/site-packages/numpy/lib/twodim_base.py:309\u001b[0m, in \u001b[0;36mdiag\u001b[0;34m(v, k)\u001b[0m\n\u001b[1;32m    307\u001b[0m     \u001b[39mreturn\u001b[39;00m diagonal(v, k)\n\u001b[1;32m    308\u001b[0m \u001b[39melse\u001b[39;00m:\n\u001b[0;32m--> 309\u001b[0m     \u001b[39mraise\u001b[39;00m \u001b[39mValueError\u001b[39;00m(\u001b[39m\"\u001b[39m\u001b[39mInput must be 1- or 2-d.\u001b[39m\u001b[39m\"\u001b[39m)\n",
      "\u001b[0;31mValueError\u001b[0m: Input must be 1- or 2-d."
     ]
    }
   ],
   "source": []
  },
  {
   "cell_type": "code",
   "execution_count": null,
   "metadata": {},
   "outputs": [],
   "source": []
  }
 ],
 "metadata": {
  "kernelspec": {
   "display_name": "Python 3",
   "language": "python",
   "name": "python3"
  },
  "language_info": {
   "codemirror_mode": {
    "name": "ipython",
    "version": 3
   },
   "file_extension": ".py",
   "mimetype": "text/x-python",
   "name": "python",
   "nbconvert_exporter": "python",
   "pygments_lexer": "ipython3",
   "version": "3.10.8"
  },
  "orig_nbformat": 4,
  "vscode": {
   "interpreter": {
    "hash": "949777d72b0d2535278d3dc13498b2535136f6dfe0678499012e853ee9abcab1"
   }
  }
 },
 "nbformat": 4,
 "nbformat_minor": 2
}
