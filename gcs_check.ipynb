{
 "cells": [
  {
   "cell_type": "code",
   "execution_count": 6,
   "metadata": {},
   "outputs": [],
   "source": [
    "import typing as T\n",
    "\n",
    "import numpy as np\n",
    "import scipy as sp\n",
    "\n",
    "from matplotlib import pyplot as plt\n",
    "from matplotlib import cm\n",
    "from matplotlib.ticker import LinearLocator\n",
    "\n",
    "from pydrake.solvers import (  \n",
    "    MathematicalProgram,\n",
    "    Solve,\n",
    "    MathematicalProgramResult\n",
    ")\n",
    "\n",
    "import pydrake.geometry.optimization as opt  # pylint: disable=import-error, no-name-in-module\n",
    "from pydrake.geometry.optimization import (  # pylint: disable=import-error, no-name-in-module\n",
    "    GraphOfConvexSets,\n",
    "    GraphOfConvexSetsOptions,\n",
    "    HPolyhedron,\n",
    "    Point\n",
    ")\n",
    "from pydrake.solvers import (  # pylint: disable=import-error, no-name-in-module, unused-import\n",
    "    Binding,\n",
    "    QuadraticCost\n",
    ")\n",
    "from pydrake.symbolic import Polynomial, Variable, Variables"
   ]
  },
  {
   "attachments": {},
   "cell_type": "markdown",
   "metadata": {},
   "source": [
    "## Make a simple gcs program"
   ]
  },
  {
   "cell_type": "code",
   "execution_count": 46,
   "metadata": {},
   "outputs": [],
   "source": [
    "\n",
    "gcs = GraphOfConvexSets()\n",
    "eps = 0.0001\n",
    "\n",
    "vs = gcs.AddVertex(Point(np.array([0,0.3])), \"s\")\n",
    "\n",
    "v1 = gcs.AddVertex(Point(np.array([0,-2])), \"1\")\n",
    "v2 = gcs.AddVertex(Point(np.array([0,2])), \"2\")\n",
    "\n",
    "v3 = gcs.AddVertex(HPolyhedron.MakeBox(np.array([2,-2]), np.array([4,2]) ), \"v3\")\n",
    "\n",
    "vt = gcs.AddVertex(Point(np.array([5,0])), \"t\")\n",
    "\n",
    "\n",
    "es1 = gcs.AddEdge(vs, v1, \"s-1\")\n",
    "es2 = gcs.AddEdge(vs, v2, \"s-2\")\n",
    "\n",
    "e13 = gcs.AddEdge(v1, v3, \"1-3\")\n",
    "e23 = gcs.AddEdge(v2, v3, \"2-3\")\n",
    "\n",
    "e3t = gcs.AddEdge(v3, vt, \"3-t\")\n",
    "\n",
    "\n",
    "def add_quadratic_cost(edge):\n",
    "    xu, xv = edge.xu(), edge.xv()\n",
    "    Q = np.array([[1,0,-1,0],\n",
    "                  [0,1, 0, -1],\n",
    "                  [-1,0,1, 0],\n",
    "                  [0,-1, 0, 1]])\n",
    "    cost = QuadraticCost(Q = Q, b = np.zeros(4), c = 0)\n",
    "    edge.AddCost(Binding[QuadraticCost](cost, np.append(xv, xu)))\n",
    "\n",
    "add_quadratic_cost(es1)\n",
    "add_quadratic_cost(es2)\n",
    "add_quadratic_cost(e13)\n",
    "add_quadratic_cost(e23)\n",
    "add_quadratic_cost(e3t)\n",
    "\n",
    "\n",
    "\n",
    "options = GraphOfConvexSetsOptions()\n",
    "options.convex_relaxation = True\n",
    "options.max_rounded_paths = 0\n",
    "\n",
    "solution = gcs.SolveShortestPath(vs, vt, options)\n",
    "\n",
    "assert solution.is_success()"
   ]
  },
  {
   "cell_type": "code",
   "execution_count": 45,
   "metadata": {},
   "outputs": [
    {
     "name": "stdout",
     "output_type": "stream",
     "text": [
      "s-1 0.3730192446244889\n",
      "s-2 0.6269807553755111\n",
      "1-3 0.3730192446244889\n",
      "2-3 0.6269807553755111\n",
      "3-t 1.0\n",
      "s [0.  0.3]\n",
      "1 [ 0.         -1.99999999]\n",
      "2 [0. 2.]\n",
      "v3 [2.49999039 0.31218571]\n",
      "t [5. 0.]\n"
     ]
    }
   ],
   "source": [
    "for e in gcs.Edges():\n",
    "    print(e.name(), solution.GetSolution(e.phi()))\n",
    "for v in gcs.Vertices():\n",
    "    print(v.name(), solution.GetSolution(v.x()))\n"
   ]
  },
  {
   "attachments": {},
   "cell_type": "markdown",
   "metadata": {},
   "source": [
    "## code for extracting a solution"
   ]
  },
  {
   "cell_type": "code",
   "execution_count": 11,
   "metadata": {},
   "outputs": [],
   "source": [
    "def find_path_to_target(\n",
    "    solution: MathematicalProgramResult,\n",
    "    edges: T.List[GraphOfConvexSets.Edge],\n",
    "    start: GraphOfConvexSets.Vertex,\n",
    "    target: GraphOfConvexSets.Vertex,\n",
    ") -> T.Tuple[T.List[GraphOfConvexSets.Vertex], T.List[GraphOfConvexSets.Edge]]:\n",
    "    \"\"\"Given a set of active edges, find a path from start to target. \n",
    "    Return a list of vertices in the path and a list of edges in the path.\n",
    "\n",
    "    Args:\n",
    "        solution (MathematicalProgramResult): GCS program solution\n",
    "        edges (T.List[GraphOfConvexSets.Edge]): list of active edges in a GCS solution\n",
    "        start (GraphOfConvexSets.Vertex): start vertex\n",
    "        target (GraphOfConvexSets.Vertex): target vertex\n",
    "\n",
    "    Returns:\n",
    "        T.Tuple[T.List[GraphOfConvexSets.Vertex], T.List[GraphOfConvexSets.Edge]]: vertex path, edge path\n",
    "    \"\"\"\n",
    "    # seed\n",
    "    np.random.seed(1)\n",
    "    # get edges out of the start vertex\n",
    "    edges_out = [e for e in edges if e.u() == start]\n",
    "    # get flows out of start vertex\n",
    "    flows_out = np.array([solution.GetSolution(e.phi()) for e in edges_out])\n",
    "    proabilities = np.where(flows_out < 0, 0, flows_out) # fix numerical errors\n",
    "    proabilities /= sum(proabilities) # normalize\n",
    "    # pick next edge at random\n",
    "    current_edge = np.random.choice(edges_out, 1, p=proabilities)[0]\n",
    "    # get the next vertex and continue\n",
    "    v = current_edge.v()\n",
    "    # check to see if target has been reached\n",
    "    target_reached = (v == target)\n",
    "    # return the list of vertices and edges along the path\n",
    "    if target_reached:\n",
    "        return [start] + [v], [current_edge]\n",
    "    else:\n",
    "        v, e = find_path_to_target(solution, edges, v, target)\n",
    "        return [start] + v, [current_edge] + e\n",
    "    \n",
    "def get_random_solution_path(\n",
    "    gcs: GraphOfConvexSets,\n",
    "    solution: MathematicalProgramResult,\n",
    "    start: GraphOfConvexSets.Vertex,\n",
    "    target: GraphOfConvexSets.Vertex\n",
    ") -> T.Tuple[T.List[GraphOfConvexSets.Vertex], T.List[GraphOfConvexSets.Edge]]:\n",
    "    \"\"\" Extract a path from a solution to a gcs program.\n",
    "\n",
    "    Args:\n",
    "        gcs (GraphOfConvexSets): gcs instance\n",
    "        solution (MathematicalProgramResult): gcs solution from Solve(gcs)\n",
    "        start (GraphOfConvexSets.Vertex): start vertex\n",
    "        target (GraphOfConvexSets.Vertex): target vertex\n",
    "\n",
    "    Returns:\n",
    "        T.Tuple[T.List[GraphOfConvexSets.Vertex], T.List[GraphOfConvexSets.Edge]]: vertex path, edge path\n",
    "    \"\"\"\n",
    "    flow_variables = [e.phi() for e in gcs.Edges()]\n",
    "    flow_results = [solution.GetSolution(p) for p in flow_variables]\n",
    "    active_edges = [edge for edge, flow in zip(gcs.Edges(), flow_results) if flow > 0.0]\n",
    "    return find_path_to_target(solution, active_edges, start, target)\n"
   ]
  },
  {
   "cell_type": "code",
   "execution_count": 12,
   "metadata": {},
   "outputs": [
    {
     "data": {
      "text/plain": [
       "([<pydrake.geometry.optimization.GraphOfConvexSets.Vertex at 0x125dfcdf0>,\n",
       "  <pydrake.geometry.optimization.GraphOfConvexSets.Vertex at 0x12630fc30>,\n",
       "  <pydrake.geometry.optimization.GraphOfConvexSets.Vertex at 0x1137d8c70>,\n",
       "  <pydrake.geometry.optimization.GraphOfConvexSets.Vertex at 0x111299770>],\n",
       " [<pydrake.geometry.optimization.GraphOfConvexSets.Edge at 0x125e1b7b0>,\n",
       "  <pydrake.geometry.optimization.GraphOfConvexSets.Edge at 0x113cfdbf0>,\n",
       "  <pydrake.geometry.optimization.GraphOfConvexSets.Edge at 0x12630c7f0>])"
      ]
     },
     "execution_count": 12,
     "metadata": {},
     "output_type": "execute_result"
    }
   ],
   "source": [
    "get_random_solution_path(gcs, solution, vs, vt)"
   ]
  },
  {
   "cell_type": "code",
   "execution_count": 31,
   "metadata": {},
   "outputs": [
    {
     "name": "stdout",
     "output_type": "stream",
     "text": [
      "True\n"
     ]
    },
    {
     "data": {
      "text/plain": [
       "array([[ 1.01674224e+00, -1.58616999e-17],\n",
       "       [-1.58616999e-17,  3.01674224e+00]])"
      ]
     },
     "execution_count": 31,
     "metadata": {},
     "output_type": "execute_result"
    }
   ],
   "source": [
    "prog = MathematicalProgram()\n",
    "mu_0 = prog.NewContinuousVariables(1)[0]\n",
    "mu_1 = prog.NewContinuousVariables(1)[0]\n",
    "mu_2 = prog.NewContinuousVariables(1)[0]\n",
    "P = np.array([[mu_0, mu_1],[mu_1, mu_2]])\n",
    "prog.AddPositiveSemidefiniteConstraint(P)\n",
    "prog.AddLinearConstraint(mu_0-mu_1>=0)\n",
    "prog.AddLinearConstraint(mu_0+mu_1>=0)\n",
    "prog.AddLinearConstraint(mu_0-mu_2<=-1)\n",
    "# prog.AddLinearCost(mu_0+mu_1)\n",
    "\n",
    "solution = Solve(prog)\n",
    "print(solution.is_success())\n",
    "solution.GetSolution(P)"
   ]
  },
  {
   "cell_type": "code",
   "execution_count": 32,
   "metadata": {},
   "outputs": [
    {
     "data": {
      "text/plain": [
       "array([1., 2.])"
      ]
     },
     "execution_count": 32,
     "metadata": {},
     "output_type": "execute_result"
    }
   ],
   "source": [
    "x = np.array([[1,0],[0,2]])\n",
    "np.linalg.eigvals(x)"
   ]
  },
  {
   "cell_type": "code",
   "execution_count": 47,
   "metadata": {},
   "outputs": [
    {
     "data": {
      "text/plain": [
       "0.0"
      ]
     },
     "execution_count": 47,
     "metadata": {},
     "output_type": "execute_result"
    }
   ],
   "source": [
    "np.floor(0.2)"
   ]
  },
  {
   "cell_type": "code",
   "execution_count": null,
   "metadata": {},
   "outputs": [],
   "source": []
  }
 ],
 "metadata": {
  "kernelspec": {
   "display_name": "Python 3",
   "language": "python",
   "name": "python3"
  },
  "language_info": {
   "codemirror_mode": {
    "name": "ipython",
    "version": 3
   },
   "file_extension": ".py",
   "mimetype": "text/x-python",
   "name": "python",
   "nbconvert_exporter": "python",
   "pygments_lexer": "ipython3",
   "version": "3.10.8"
  },
  "orig_nbformat": 4,
  "vscode": {
   "interpreter": {
    "hash": "949777d72b0d2535278d3dc13498b2535136f6dfe0678499012e853ee9abcab1"
   }
  }
 },
 "nbformat": 4,
 "nbformat_minor": 2
}
